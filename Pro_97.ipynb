{
  "nbformat": 4,
  "nbformat_minor": 0,
  "metadata": {
    "colab": {
      "name": "Pro-97.ipynb",
      "provenance": [],
      "collapsed_sections": [],
      "authorship_tag": "ABX9TyO6KG9MRQvemgkMZlUUI2GZ",
      "include_colab_link": true
    },
    "kernelspec": {
      "name": "python3",
      "display_name": "Python 3"
    },
    "language_info": {
      "name": "python"
    }
  },
  "cells": [
    {
      "cell_type": "markdown",
      "metadata": {
        "id": "view-in-github",
        "colab_type": "text"
      },
      "source": [
        "<a href=\"https://colab.research.google.com/github/laasya1202/BatmanBegins/blob/main/Pro_97.ipynb\" target=\"_parent\"><img src=\"https://colab.research.google.com/assets/colab-badge.svg\" alt=\"Open In Colab\"/></a>"
      ]
    },
    {
      "cell_type": "code",
      "execution_count": 11,
      "metadata": {
        "colab": {
          "base_uri": "https://localhost:8080/"
        },
        "id": "wZCe7uCv4buM",
        "outputId": "04410769-fe76-44db-c313-067ae666343c"
      },
      "outputs": [
        {
          "output_type": "stream",
          "name": "stdout",
          "text": [
            "Enter the year2024\n",
            "2024\n",
            "The given year is a leap year\n"
          ]
        }
      ],
      "source": [
        "year=int(input(\"Enter the year\"))\n",
        "print(year)\n",
        "\n",
        "if(year % 4==0 and year % 100!=0 or year % 400==0):\n",
        "  print(\"The given year is a leap year\")\n",
        "else:\n",
        "  print(\"The given year is not a leap year\")"
      ]
    }
  ]
}